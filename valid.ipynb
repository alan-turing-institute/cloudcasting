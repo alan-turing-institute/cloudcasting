{
 "cells": [
  {
   "cell_type": "code",
   "execution_count": 4,
   "metadata": {},
   "outputs": [],
   "source": [
    "from cloudcasting.models import VariableHorizonModel\n",
    "import numpy as np\n",
    "\n",
    "class PersistenceModel(VariableHorizonModel):\n",
    "    \"\"\"A persistence model used solely for testing the validation procedure\"\"\"\n",
    "\n",
    "    def forward(self, X):\n",
    "        latest_frame = X[..., -1:, :, :].copy()\n",
    "\n",
    "        # The NaN values in the input data could be filled with -1. Clip these to zero\n",
    "        latest_frame = latest_frame.clip(0, 1)\n",
    "\n",
    "        return np.repeat(latest_frame, self.rollout_steps, axis=-3)\n",
    "    \n",
    "    def hyperparameters_dict(self):\n",
    "        return {}\n",
    "\n",
    "\n",
    "example_input = np.ones((3,3,3,3,3))\n",
    "\n",
    "model = PersistenceModel(history_steps=0, rollout_steps=5)\n",
    "res = model(example_input)\n",
    "assert res.shape == (3,3,5,3,3)\n"
   ]
  },
  {
   "cell_type": "code",
   "execution_count": null,
   "metadata": {},
   "outputs": [],
   "source": []
  }
 ],
 "metadata": {
  "kernelspec": {
   "display_name": ".venv-211",
   "language": "python",
   "name": "python3"
  },
  "language_info": {
   "codemirror_mode": {
    "name": "ipython",
    "version": 3
   },
   "file_extension": ".py",
   "mimetype": "text/x-python",
   "name": "python",
   "nbconvert_exporter": "python",
   "pygments_lexer": "ipython3",
   "version": "3.10.13"
  }
 },
 "nbformat": 4,
 "nbformat_minor": 2
}
