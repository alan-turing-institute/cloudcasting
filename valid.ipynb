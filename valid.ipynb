{
 "cells": [
  {
   "cell_type": "code",
   "execution_count": 7,
   "metadata": {},
   "outputs": [
    {
     "data": {
      "text/plain": [
       "(3, 3, 5, 3, 3)"
      ]
     },
     "execution_count": 7,
     "metadata": {},
     "output_type": "execute_result"
    }
   ],
   "source": [
    "from cloudcasting. import VariableHorizonModel\n",
    "import numpy as np\n",
    "\n",
    "class PersistenceModel(VariableHorizonModel):\n",
    "    \"\"\"A persistence model used solely for testing the validation procedure\"\"\"\n",
    "\n",
    "    def forward(self, X):\n",
    "        latest_frame = X[..., -1:, :, :].copy()\n",
    "\n",
    "        # The NaN values in the input data could be filled with -1. Clip these to zero\n",
    "        latest_frame = latest_frame.clip(0, 1)\n",
    "\n",
    "        y_hat = np.repeat(latest_frame, self.forecast_horizon, axis=-3)\n",
    "        return y_hat\n",
    "\n",
    "\n",
    "example_input = np.ones((3,3,3,3,3))\n",
    "\n",
    "model = PersistenceModel(forecast_horizon=5)\n",
    "res = model(example_input)\n",
    "assert res.shape == (3,3,5,3,3)\n"
   ]
  },
  {
   "cell_type": "code",
   "execution_count": null,
   "metadata": {},
   "outputs": [],
   "source": []
  }
 ],
 "metadata": {
  "kernelspec": {
   "display_name": ".venv-211",
   "language": "python",
   "name": "python3"
  },
  "language_info": {
   "codemirror_mode": {
    "name": "ipython",
    "version": 3
   },
   "file_extension": ".py",
   "mimetype": "text/x-python",
   "name": "python",
   "nbconvert_exporter": "python",
   "pygments_lexer": "ipython3",
   "version": "3.11.9"
  }
 },
 "nbformat": 4,
 "nbformat_minor": 2
}
